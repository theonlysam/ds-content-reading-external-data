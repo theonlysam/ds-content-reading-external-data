{
 "cells": [
  {
   "cell_type": "markdown",
   "metadata": {},
   "source": [
    "![rmotr](https://user-images.githubusercontent.com/7065401/52071918-bda15380-2562-11e9-828c-7f95297e4a82.png)\n",
    "<hr style=\"margin-bottom: 40px;\">\n",
    "\n",
    "# Exercises\n",
    "## Reading external data"
   ]
  },
  {
   "cell_type": "code",
   "execution_count": null,
   "metadata": {},
   "outputs": [],
   "source": [
    "import numpy as np\n",
    "import pandas as pd\n",
    "import json"
   ]
  },
  {
   "cell_type": "markdown",
   "metadata": {},
   "source": [
    "![purple-divider](https://user-images.githubusercontent.com/7065401/52071927-c1cd7100-2562-11e9-908a-dde91ba14e59.png)"
   ]
  },
  {
   "cell_type": "markdown",
   "metadata": {},
   "source": [
    "### Exercise 1\n",
    "\n",
    "Read and store in a `DataFrame` the data within the TSV (_Tabular Separated Values_) file located in `data/simpsons-episodes.tsv`. This file contains The Simpsons episodes.\n",
    "\n",
    "Use `pd.read_csv()` method to read the file. Also you'll need to use many parameters to get the data loaded as follows:\n",
    "\n",
    "- Use correct separator as data is tabular separated.\n",
    "- Use the following `col_names` list as column names.\n",
    "- Load just `Title`, `Air date`, `Production code` and `IMDB rating`.\n",
    "- Don't load the first empty columns.\n",
    "- Set `Production code` as index.\n",
    "- Null values are encoded as `no_val` values, be careful with that when loading the data.\n",
    "- Parse the `Air date` columns as Date."
   ]
  },
  {
   "cell_type": "code",
   "execution_count": null,
   "metadata": {},
   "outputs": [],
   "source": [
    "col_names = ['Title', 'Air date', 'Production code', 'Season', 'Number in season',\n",
    "             'Number in series', 'US viewers (million)', 'Views', 'IMDB rating']"
   ]
  },
  {
   "cell_type": "code",
   "execution_count": null,
   "metadata": {},
   "outputs": [],
   "source": [
    "# your code goes here\n"
   ]
  },
  {
   "cell_type": "code",
   "execution_count": null,
   "metadata": {
    "cell_type": "solution"
   },
   "outputs": [],
   "source": [
    "select_cols = ['Title','Air date','Production code','IMDB rating']\n",
    "\n",
    "df = pd.read_csv('data/simpsons-episodes.tsv',\n",
    "                 sep='\\t',\n",
    "                 encoding='UTF-8',\n",
    "                 names=col_names,\n",
    "                 usecols=select_cols,\n",
    "                 skiprows=4,\n",
    "                 index_col='Production code',\n",
    "                 na_values=['no_val'],\n",
    "                 parse_dates=['Air date'])\n",
    "\n",
    "df"
   ]
  },
  {
   "cell_type": "markdown",
   "metadata": {},
   "source": [
    "![green-divider](https://user-images.githubusercontent.com/7065401/52071924-c003ad80-2562-11e9-8297-1c6595f8a7ff.png)\n",
    "\n",
    "### Exercise 2\n",
    "\n",
    "Read and store in a `DataFrame` the data within the JSON file located in `data/starwars-planets.json` that contains different planets of _Star Wars_ universe, then set `name` column as index."
   ]
  },
  {
   "cell_type": "code",
   "execution_count": null,
   "metadata": {},
   "outputs": [],
   "source": [
    "# your code goes here\n"
   ]
  },
  {
   "cell_type": "code",
   "execution_count": null,
   "metadata": {
    "cell_type": "solution"
   },
   "outputs": [],
   "source": [
    "with open('data/starwars-planets.json') as fp:\n",
    "    doc = json.load(fp)\n",
    "\n",
    "df = pd.DataFrame(doc['planets'])\n",
    "df.set_index('name', inplace=True)\n",
    "\n",
    "df"
   ]
  },
  {
   "cell_type": "markdown",
   "metadata": {},
   "source": [
    "![purple-divider](https://user-images.githubusercontent.com/7065401/52071927-c1cd7100-2562-11e9-908a-dde91ba14e59.png)"
   ]
  }
 ],
 "metadata": {
  "kernelspec": {
   "display_name": "Python 3",
   "language": "python",
   "name": "python3"
  },
  "language_info": {
   "codemirror_mode": {
    "name": "ipython",
    "version": 3
   },
   "file_extension": ".py",
   "mimetype": "text/x-python",
   "name": "python",
   "nbconvert_exporter": "python",
   "pygments_lexer": "ipython3",
   "version": "3.6.8"
  }
 },
 "nbformat": 4,
 "nbformat_minor": 2
}
